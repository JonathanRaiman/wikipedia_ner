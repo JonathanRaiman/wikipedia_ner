{
 "cells": [
  {
   "cell_type": "code",
   "execution_count": 5,
   "metadata": {
    "collapsed": true
   },
   "outputs": [],
   "source": [
    "import json\n",
    "from collections import defaultdict\n",
    "from epub_conversion import convert_wiki_to_lines\n",
    "import gzip\n",
    "from epub_conversion.wiki_decoder import almost_smart_open\n",
    "from multiprocessing import Process, Lock\n",
    "from multiprocessing import Pool"
   ]
  },
  {
   "cell_type": "markdown",
   "metadata": {},
   "source": [
    "### Extract Wikipedia category graph\n",
    "\n",
    "\n",
    "Find all the category connections in Wikipedia and save them to a JSON"
   ]
  },
  {
   "cell_type": "code",
   "execution_count": 6,
   "metadata": {
    "collapsed": false
   },
   "outputs": [],
   "source": [
    "import re\n",
    "link_pattern = re.compile(r'\\[\\[ *(.*?)\\]\\]')\n",
    "\n",
    "def save_progress(work_so_far, path):\n",
    "    with open(path, \"w+\") as fout:\n",
    "        json.dump(work_so_far, fout)\n",
    "        \n",
    "def lines_extractor(lines, article_name):\n",
    "    yield (article_name, lines)\n",
    "    \n",
    "def category_job(args):\n",
    "    article_name, lines = args\n",
    "    categories = []\n",
    "    for link in link_pattern.findall(lines):\n",
    "        if link.lower().startswith(\"category:\"):\n",
    "            if '|' in link:\n",
    "                link, anchor = link.split(\"|\", 1)\n",
    "                link = link.strip().split(\"#\")[0]\n",
    "                anchor = anchor.strip()\n",
    "                if len(link) > 0 and len(anchor) > 0:\n",
    "                    categories.append((link, anchor))\n",
    "            else:\n",
    "                categories.append((link, None))\n",
    "    return (article_name, categories)\n",
    "\n",
    "def run_jobs(worker_pool, pool_jobs, output_dictionary):\n",
    "    results = worker_pool.map(category_job, pool_jobs)\n",
    "    for article_name, categories in results:\n",
    "        for category, anchor in categories:\n",
    "            output_dictionary[category].append(article_name)\n",
    "\n",
    "def parse_wiki(path, outpath, num_articles = 9999999999999, threads = 1, max_jobs = 10):\n",
    "    num_articles_processed       = 0\n",
    "    num_articles_with_categories = 0\n",
    "    processed_categories = defaultdict(lambda : [])\n",
    "    \n",
    "    jobs = []\n",
    "    pool = Pool(processes=threads)\n",
    "    \n",
    "    with almost_smart_open(path, \"rb\") as wiki:\n",
    "        for article_name, lines in convert_wiki_to_lines(\n",
    "                wiki,\n",
    "                max_articles         = num_articles,\n",
    "                clear_output         = True,\n",
    "                report_every         = 100,\n",
    "                parse_special_pages  = True,\n",
    "                skip_templated_lines = False,\n",
    "                line_converter       = lines_extractor):\n",
    "            \n",
    "            jobs.append((article_name, lines))\n",
    "            \n",
    "            num_articles_processed += 1\n",
    "            \n",
    "            if len(jobs) >= max_jobs:\n",
    "                run_jobs(pool, jobs, processed_categories)\n",
    "                jobs = []\n",
    "\n",
    "            if num_articles_processed % 100000 == 0:\n",
    "                save_progress(processed_categories, outpath)\n",
    "    \n",
    "    if len(jobs) > 0:\n",
    "        run_jobs(pool, jobs, processed_categories)\n",
    "        jobs = []\n",
    "    \n",
    "    save_progress(processed_categories, outpath)\n",
    "    \n",
    "    return processed_categories"
   ]
  },
  {
   "cell_type": "code",
   "execution_count": 7,
   "metadata": {
    "collapsed": false,
    "scrolled": false
   },
   "outputs": [
    {
     "name": "stdout",
     "output_type": "stream",
     "text": [
      "15706200 articles seen so far. Processing 1675.302 articles / s : position 53557320927\n"
     ]
    }
   ],
   "source": [
    "x = parse_wiki(\"/Users/jonathanraiman/Desktop/Coding/enwiki2015.xml.bz2\",\n",
    "           \"/Users/jonathanraiman/Desktop/datasets/category_graph2.json\",\n",
    "           threads=9,\n",
    "           max_jobs=100)"
   ]
  },
  {
   "cell_type": "code",
   "execution_count": null,
   "metadata": {
    "collapsed": true
   },
   "outputs": [],
   "source": []
  }
 ],
 "metadata": {
  "kernelspec": {
   "display_name": "Python 3",
   "language": "python",
   "name": "python3"
  },
  "language_info": {
   "codemirror_mode": {
    "name": "ipython",
    "version": 3
   },
   "file_extension": ".py",
   "mimetype": "text/x-python",
   "name": "python",
   "nbconvert_exporter": "python",
   "pygments_lexer": "ipython3",
   "version": "3.4.3"
  }
 },
 "nbformat": 4,
 "nbformat_minor": 0
}
