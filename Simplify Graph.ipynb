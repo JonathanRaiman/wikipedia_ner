{
 "cells": [
  {
   "cell_type": "code",
   "execution_count": 1,
   "metadata": {
    "collapsed": false
   },
   "outputs": [],
   "source": [
    "import json\n",
    "from collections import Counter\n",
    "import matplotlib.pyplot as plt\n",
    "% matplotlib inline"
   ]
  },
  {
   "cell_type": "code",
   "execution_count": 2,
   "metadata": {
    "collapsed": true
   },
   "outputs": [],
   "source": [
    "fname = \"/Users/jonathanraiman/Desktop/datasets/category_graph.json\""
   ]
  },
  {
   "cell_type": "code",
   "execution_count": 3,
   "metadata": {
    "collapsed": true
   },
   "outputs": [],
   "source": [
    "with open(fname, \"rt\") as f:\n",
    "    graph = json.load(f)"
   ]
  },
  {
   "cell_type": "markdown",
   "metadata": {},
   "source": [
    "### Clean broken, disconnected elements, from graph:"
   ]
  },
  {
   "cell_type": "code",
   "execution_count": 4,
   "metadata": {
    "collapsed": true
   },
   "outputs": [],
   "source": [
    "bad_keys = []\n",
    "for key in graph.keys():\n",
    "    if \"[[\" in key or \"]]\" in key:\n",
    "        bad_keys.append(key)\n",
    "for key in bad_keys:\n",
    "    del graph[key]\n",
    "\n",
    "for el in graph.keys():\n",
    "    kids = []\n",
    "    for child in graph[el]:\n",
    "        if \"[[\" in child or \"]]\" in child:\n",
    "            continue\n",
    "        if child.lower().startswith(\"category:\"):\n",
    "            if \"Category:\" + child.split(\":\",1)[1] in graph:\n",
    "                kids.append(\"Category:\" + child.split(\":\",1)[1])\n",
    "        else:\n",
    "            kids.append(child)\n",
    "    graph[el] = kids"
   ]
  },
  {
   "cell_type": "markdown",
   "metadata": {},
   "source": [
    "### Special Nodes"
   ]
  },
  {
   "cell_type": "code",
   "execution_count": 173,
   "metadata": {
    "collapsed": true
   },
   "outputs": [],
   "source": [
    "cats = set()\n",
    "articles = set()\n",
    "for key, value in graph.items():\n",
    "    if key.startswith(\"Category:\"):\n",
    "        cats.add(key.replace(\"Category:\", \"\"))\n",
    "    for child in value:\n",
    "        if not child.startswith(\"Category:\"):\n",
    "            articles.add(child)"
   ]
  },
  {
   "cell_type": "code",
   "execution_count": 174,
   "metadata": {
    "collapsed": false
   },
   "outputs": [],
   "source": [
    "fixed_points = cats & articles\n",
    "blacklist = [\" in \", \" District\", \" County\"]\n",
    "def in_blacklist(art, bl):\n",
    "    for el in bl:\n",
    "        if el in art:\n",
    "            return True\n",
    "    return False\n",
    "non_date_fixed_points = set([art for art in fixed_points if not in_blacklist(art, blacklist)])"
   ]
  },
  {
   "cell_type": "code",
   "execution_count": 8,
   "metadata": {
    "collapsed": true
   },
   "outputs": [],
   "source": [
    "inverse_graph = {}\n",
    "for key in graph.keys():\n",
    "    for child in graph[key]:\n",
    "        if child in inverse_graph:\n",
    "            inverse_graph[child].append(key)\n",
    "        else:\n",
    "            inverse_graph[child] = [key]"
   ]
  },
  {
   "cell_type": "markdown",
   "metadata": {},
   "source": [
    "Can find the root of wikipedia by looking at [Category:Main topic classifications](https://en.wikipedia.org/wiki/Category:Main_topic_classifications) online and finding the parent for this category. Going up this leads to **Category:Articles**, which has **Category:Contents** as parent. **Category:Contents** has no parent, and is the most meta of all articles."
   ]
  },
  {
   "cell_type": "code",
   "execution_count": 49,
   "metadata": {
    "collapsed": false
   },
   "outputs": [],
   "source": [
    "root = \"Category:Contents\""
   ]
  },
  {
   "cell_type": "code",
   "execution_count": 9,
   "metadata": {
    "collapsed": true
   },
   "outputs": [],
   "source": [
    "fname_inverted = \"/Users/jonathanraiman/Desktop/datasets/category_graph.inverted.json\""
   ]
  },
  {
   "cell_type": "code",
   "execution_count": 10,
   "metadata": {
    "collapsed": true
   },
   "outputs": [],
   "source": [
    "with open(fname_inverted, \"wt\") as f:\n",
    "    json.dump(inverse_graph, f)"
   ]
  },
  {
   "cell_type": "markdown",
   "metadata": {},
   "source": [
    "### Upward edges"
   ]
  },
  {
   "cell_type": "code",
   "execution_count": 51,
   "metadata": {
    "collapsed": false
   },
   "outputs": [],
   "source": [
    "from collections import deque\n",
    "def get_node_depth(root, graph):\n",
    "    visited_nodes = set()\n",
    "    node_queue    = deque()\n",
    "    depth         = {root: 0}\n",
    "    node_queue.appendleft(root)\n",
    "    visited_nodes.add(root)\n",
    "    \n",
    "    while len(node_queue) > 0:\n",
    "        node = node_queue.pop()\n",
    "        if node in graph:\n",
    "            for child in graph[node]:\n",
    "                if child not in visited_nodes:\n",
    "                    node_queue.appendleft(child)\n",
    "                    visited_nodes.add(child)\n",
    "                    depth[child] = depth[node] + 1\n",
    "    return depth"
   ]
  },
  {
   "cell_type": "code",
   "execution_count": 50,
   "metadata": {
    "collapsed": false
   },
   "outputs": [],
   "source": [
    "depth = get_node_depth(root, graph)"
   ]
  },
  {
   "cell_type": "markdown",
   "metadata": {},
   "source": [
    "Export ontology to format of the form:\n",
    "```\n",
    "root -> child\n",
    "child -> subchild\n",
    "         grandchild\n",
    "```\n",
    "for easy serialization"
   ]
  },
  {
   "cell_type": "code",
   "execution_count": 131,
   "metadata": {
    "collapsed": true
   },
   "outputs": [],
   "source": [
    "from collections import deque\n",
    "import gzip\n",
    "import numpy as np\n",
    "def save_graph_from_root(root, graph, outpath, connector=\"->\", max_log1p_degree=7):\n",
    "    global inverse_graph\n",
    "    save_nodes = set()\n",
    "    node_queue = deque()\n",
    "    node_queue.appendleft(root)\n",
    "    save_nodes.add(root)\n",
    "    \n",
    "    def acceptable_node(node):\n",
    "        return (\n",
    "            not node.startswith(\"Category:\")\n",
    "            or node in graph) and not node.startswith(\"Wikipedia:\")\n",
    "    \n",
    "    with gzip.open(outpath, \"wt\") as fout:\n",
    "        while len(node_queue) > 0:\n",
    "            node = node_queue.pop()\n",
    "            first = True\n",
    "            if node in graph:\n",
    "                if np.log1p(len(graph[node])) <= max_log1p_degree:\n",
    "                    for child in graph[node]:\n",
    "                        if acceptable_node(child):\n",
    "                            if first:\n",
    "                                fout.write(\"%s%s%s\\n\" % (node, connector, child))\n",
    "                            else:\n",
    "                                fout.write(\"%s\\n\" % (child,))\n",
    "                            first = False\n",
    "                            if child not in save_nodes:\n",
    "                                node_queue.appendleft(child)\n",
    "                                save_nodes.add(child)"
   ]
  },
  {
   "cell_type": "code",
   "execution_count": 132,
   "metadata": {
    "collapsed": false
   },
   "outputs": [],
   "source": [
    "save_graph_from_root(root, graph,\n",
    "                     \"/Users/jonathanraiman/Desktop/datasets/ontology.txt.gz\",\n",
    "                    max_log1p_degree = 7)"
   ]
  },
  {
   "cell_type": "code",
   "execution_count": 119,
   "metadata": {
    "collapsed": false
   },
   "outputs": [],
   "source": [
    "degrees = [(len(graph[node]), node) for node in graph.keys()]"
   ]
  },
  {
   "cell_type": "code",
   "execution_count": 127,
   "metadata": {
    "collapsed": false,
    "scrolled": false
   },
   "outputs": [
    {
     "data": {
      "text/plain": [
       "1095.6331584284585"
      ]
     },
     "execution_count": 127,
     "metadata": {},
     "output_type": "execute_result"
    }
   ],
   "source": [
    "np.expm1(7)"
   ]
  },
  {
   "cell_type": "markdown",
   "metadata": {},
   "source": [
    "Visualize distributions of degrees. Most categories have between 3 and 55 children, however there exits outliers. If we perform a cutoff $D_{\\mathrm{max}}$ with $\\mathrm{log}( 1 +  D_{\\mathrm{max}}) = 7$"
   ]
  },
  {
   "cell_type": "code",
   "execution_count": 118,
   "metadata": {
    "collapsed": false
   },
   "outputs": [
    {
     "data": {
      "image/png": "[encoded data removed]",
      "text/plain": [
       "<matplotlib.figure.Figure at 0x1f3766940>"
      ]
     },
     "metadata": {},
     "output_type": "display_data"
    }
   ],
   "source": [
    "plt.hist(np.log1p(degrees), bins = 30);"
   ]
  },
  {
   "cell_type": "markdown",
   "metadata": {},
   "source": [
    "Edges going up are parts of cycles. Let's detect them:"
   ]
  },
  {
   "cell_type": "code",
   "execution_count": 67,
   "metadata": {
    "collapsed": true
   },
   "outputs": [],
   "source": [
    "def get_upward_edges(depthmap, linking):\n",
    "    upward_connections = set()\n",
    "    total = 0\n",
    "    for key in linking.keys():\n",
    "        for child in linking[key]:\n",
    "            # if child is higher up in the tree\n",
    "            # then this is an upward connection\n",
    "            if key in depthmap:\n",
    "                if child.startswith(\"Category:\"):\n",
    "                    if depthmap[key] < depthmap[child]:\n",
    "                        upward_connections.add((key, child))\n",
    "                    total += 1\n",
    "    return (upward_connections, total)"
   ]
  },
  {
   "cell_type": "code",
   "execution_count": 164,
   "metadata": {
    "collapsed": false
   },
   "outputs": [],
   "source": [
    "def get_connected_articles(roots, linking):\n",
    "    connected_articles = set()\n",
    "    visited = set()\n",
    "    to_visit = list(roots)\n",
    "    while len(to_visit) > 0:\n",
    "        root = to_visit.pop()\n",
    "        visited.add(root)\n",
    "        for child in linking.get(\"Category:\"+root,[]):\n",
    "            if child.startswith(\"Category:\"):\n",
    "                if child[9:] not in visited:\n",
    "                    to_visit.append(child[9:])\n",
    "            else:\n",
    "                connected_articles.add(child)\n",
    "    return connected_articles"
   ]
  },
  {
   "cell_type": "code",
   "execution_count": 165,
   "metadata": {
    "collapsed": false
   },
   "outputs": [],
   "source": [
    "connected_arts = get_connected_articles(non_date_fixed_points, graph)"
   ]
  },
  {
   "cell_type": "code",
   "execution_count": 166,
   "metadata": {
    "collapsed": false
   },
   "outputs": [
    {
     "data": {
      "text/plain": [
       "4946350"
      ]
     },
     "execution_count": 166,
     "metadata": {},
     "output_type": "execute_result"
    }
   ],
   "source": [
    "len(connected_arts)"
   ]
  },
  {
   "cell_type": "code",
   "execution_count": 167,
   "metadata": {
    "collapsed": false
   },
   "outputs": [
    {
     "data": {
      "text/plain": [
       "5292971"
      ]
     },
     "execution_count": 167,
     "metadata": {},
     "output_type": "execute_result"
    }
   ],
   "source": [
    "len(articlescles)"
   ]
  },
  {
   "cell_type": "code",
   "execution_count": null,
   "metadata": {
    "collapsed": true
   },
   "outputs": [],
   "source": []
  }
 ],
 "metadata": {
  "kernelspec": {
   "display_name": "Python 3",
   "language": "python",
   "name": "python3"
  },
  "language_info": {
   "codemirror_mode": {
    "name": "ipython",
    "version": 3
   },
   "file_extension": ".py",
   "mimetype": "text/x-python",
   "name": "python",
   "nbconvert_exporter": "python",
   "pygments_lexer": "ipython3",
   "version": "3.4.3"
  }
 },
 "nbformat": 4,
 "nbformat_minor": 0
}
