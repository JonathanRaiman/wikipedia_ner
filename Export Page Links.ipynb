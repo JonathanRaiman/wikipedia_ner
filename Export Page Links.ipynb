{
 "cells": [
  {
   "cell_type": "code",
   "execution_count": 1,
   "metadata": {
    "collapsed": true
   },
   "outputs": [],
   "source": [
    "import json\n",
    "import os\n",
    "from collections import defaultdict\n",
    "from epub_conversion import convert_wiki_to_lines\n",
    "import gzip\n",
    "from epub_conversion.wiki_decoder import almost_smart_open\n",
    "from multiprocessing import Process, Lock\n",
    "from multiprocessing import Pool"
   ]
  },
  {
   "cell_type": "markdown",
   "metadata": {},
   "source": [
    "### Extract Wikipedia category graph\n",
    "\n",
    "\n",
    "Find all the category connections in Wikipedia and save them to a JSON"
   ]
  },
  {
   "cell_type": "code",
   "execution_count": 2,
   "metadata": {
    "collapsed": false
   },
   "outputs": [],
   "source": [
    "import re\n",
    "link_pattern = re.compile(r'\\[\\[ *(.*?)\\]\\]')\n",
    "\n",
    "def save_progress(work_so_far, path, num_saved, mode):\n",
    "    with open(path, mode) as fout:\n",
    "        for ex in work_so_far:\n",
    "            json.dump(ex, fout)\n",
    "            fout.write(\"\\n\")\n",
    "    num_saved = num_saved + len(work_so_far)\n",
    "    return num_saved\n",
    "        \n",
    "def lines_extractor(lines, article_name):\n",
    "    yield (article_name, lines)\n",
    "    \n",
    "def category_job(args):\n",
    "    article_name, lines = args\n",
    "    out = []\n",
    "    text_block = True\n",
    "    for block in re.split(link_pattern, lines):\n",
    "        block = block.strip()\n",
    "        if text_block:\n",
    "            text_block = False\n",
    "            out.append({\"type\":\"text\", \"text\": block})\n",
    "        else:\n",
    "            link = block\n",
    "            if '|' in link:\n",
    "                link, anchor = link.split(\"|\", 1)\n",
    "                link = link.strip().split(\"#\")[0]\n",
    "                anchor = anchor.strip()\n",
    "                \n",
    "                if link.startswith(\"File:\") or link.startswith(\"Image:\"):\n",
    "                    if len(anchor) > 0:\n",
    "                        out.append({\"type\":\"text\", \"text\": anchor})\n",
    "                elif len(link) > 0 and len(anchor) > 0:\n",
    "                    anchor_words = anchor.split(\" \")\n",
    "                    out.append({\"type\":\"label\", \"text\": anchor, \"label\": link})\n",
    "                elif len(anchor) > 0:\n",
    "                    out.append({\"type\":\"text\", \"text\": anchor})\n",
    "            else:\n",
    "                if len(link) > 0:\n",
    "                    out.append({\"type\":\"label\", \"text\": link, \"label\": link})\n",
    "            text_block = True\n",
    "    return (article_name, out)\n",
    "\n",
    "def run_jobs(worker_pool, pool_jobs, output):\n",
    "    results = worker_pool.map(category_job, pool_jobs)\n",
    "    for article_name, out in results:\n",
    "        output.append(\n",
    "            {\n",
    "                \"content\": out,\n",
    "                \"title\": article_name\n",
    "            }\n",
    "        )\n",
    "\n",
    "def parse_wiki(path, outpath, num_articles=9999999999999, threads=1, max_jobs=10, save_every=10000):\n",
    "    num_articles_processed       = 0\n",
    "    num_articles_with_categories = 0\n",
    "    processed_categories = []\n",
    "    \n",
    "    jobs = []\n",
    "    pool = Pool(processes=threads)\n",
    "    try:\n",
    "        num_saved = 0\n",
    "        write_mode = \"wt+\"\n",
    "\n",
    "        with almost_smart_open(path, \"rb\") as wiki:\n",
    "            for article_name, lines in convert_wiki_to_lines(\n",
    "                    wiki,\n",
    "                    max_articles         = num_articles,\n",
    "                    clear_output         = True,\n",
    "                    report_every         = 100,\n",
    "                    parse_special_pages  = True,\n",
    "                    skip_templated_lines = False,\n",
    "                    line_converter       = lines_extractor):\n",
    "\n",
    "                jobs.append((article_name, lines))\n",
    "\n",
    "                num_articles_processed += 1\n",
    "\n",
    "                if len(jobs) >= max_jobs:\n",
    "                    run_jobs(pool, jobs, processed_categories)\n",
    "                    jobs = []\n",
    "\n",
    "                if num_articles_processed % save_every == 0:\n",
    "                    num_saved = save_progress(processed_categories, outpath, num_saved, mode=write_mode)\n",
    "                    processed_categories = []\n",
    "                    write_mode = \"at+\"\n",
    "\n",
    "        if len(jobs) > 0:\n",
    "            run_jobs(pool, jobs, processed_categories)\n",
    "            jobs = []\n",
    "        num_saved = save_progress(processed_categories, outpath, num_saved, mode=write_mode)\n",
    "        processed_categories = []\n",
    "        write_mode = \"at+\"\n",
    "    finally:\n",
    "        pool.close()\n",
    "        pool.join()\n",
    "    return processed_categories"
   ]
  },
  {
   "cell_type": "code",
   "execution_count": 3,
   "metadata": {
    "collapsed": false,
    "scrolled": false
   },
   "outputs": [
    {
     "name": "stdout",
     "output_type": "stream",
     "text": [
      "15706200 articles seen so far. Processing 1053.715 articles / s : position 53557320927\n"
     ]
    }
   ],
   "source": [
    "x = parse_wiki(\n",
    "    \"/Users/jonathanraiman/Desktop/Coding/enwiki2015.xml.bz2\",\n",
    "    \"/Users/jonathanraiman/Desktop/datasets/triggers_and_documents.json\",\n",
    "    threads=9,\n",
    "    max_jobs=100,\n",
    "    save_every=100000\n",
    ")"
   ]
  },
  {
   "cell_type": "code",
   "execution_count": null,
   "metadata": {
    "collapsed": true
   },
   "outputs": [],
   "source": []
  }
 ],
 "metadata": {
  "kernelspec": {
   "display_name": "Python 3",
   "language": "python",
   "name": "python3"
  },
  "language_info": {
   "codemirror_mode": {
    "name": "ipython",
    "version": 3
   },
   "file_extension": ".py",
   "mimetype": "text/x-python",
   "name": "python",
   "nbconvert_exporter": "python",
   "pygments_lexer": "ipython3",
   "version": "3.4.3"
  }
 },
 "nbformat": 4,
 "nbformat_minor": 0
}
